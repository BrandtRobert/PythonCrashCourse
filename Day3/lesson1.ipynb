{
 "cells": [
  {
   "cell_type": "markdown",
   "metadata": {},
   "source": [
    "## Pygame\n",
    "\n",
    "Python allows us to import libraries of code that we can use to do specific tasks. We are going to use one of these libraries, called pygame, to build games.\n",
    "\n",
    "We import the library like this"
   ]
  },
  {
   "cell_type": "code",
   "execution_count": 2,
   "metadata": {
    "scrolled": true
   },
   "outputs": [
    {
     "name": "stdout",
     "output_type": "stream",
     "text": [
      "pygame 1.9.6\n",
      "Hello from the pygame community. https://www.pygame.org/contribute.html\n"
     ]
    }
   ],
   "source": [
    "import pygame\n",
    "from pygame.locals import *"
   ]
  },
  {
   "cell_type": "markdown",
   "metadata": {},
   "source": [
    "### Creating a Window\n"
   ]
  },
  {
   "cell_type": "code",
   "execution_count": 3,
   "metadata": {},
   "outputs": [],
   "source": [
    "# Initialize pygame\n",
    "pygame.init()\n",
    "\n",
    "#Create a window of size 800x600\n",
    "# we assign it to screen so we can write to it later\n",
    "screen = pygame.display.set_mode((800,600))\n",
    "\n",
    "\n",
    "#This just keeps the window open until we close it\n",
    "running=True\n",
    "while running:\n",
    "    for event in pygame.event.get():\n",
    "        if event.type==QUIT:\n",
    "            running=False\n",
    "\n",
    "pygame.quit()"
   ]
  },
  {
   "cell_type": "markdown",
   "metadata": {},
   "source": [
    "### Drawing onto the window\n",
    "\n",
    "To draw things onto this window we are going to use something called a surface. Surfaces give us something to draw images or shapes unto. The window itself contains one surface but we can add more of our own if we want to break the area up into smaller pieces.\n",
    "\n"
   ]
  },
  {
   "cell_type": "code",
   "execution_count": null,
   "metadata": {},
   "outputs": [],
   "source": [
    "pygame.init()\n",
    "screen = pygame.display.set_mode((800,600))\n",
    "\n",
    "\n",
    "# STEP ONE: Creats a surface of size 75x75\n",
    "surf = pygame.Surface((75,75))\n",
    "\n",
    "#STEP TWO: Fills the surface with the color white\n",
    "surf.fill((255,255,255))\n",
    "\n",
    "#STEP THREE: Draws the surface onto the screen at position 0,0\n",
    "screen.blit(surf,(0,0))\n",
    "\n",
    "#STEP FOUR: Update the display\n",
    "pygame.display.flip()\n",
    "    \n",
    "#Exit loop\n",
    "running=True\n",
    "while running:\n",
    "    #Checks if the exit button has been clicked\n",
    "    for event in pygame.event.get():\n",
    "        if event.type==QUIT:\n",
    "            #Quits the game\n",
    "            running=False\n",
    "            \n",
    "pygame.quit()"
   ]
  },
  {
   "cell_type": "markdown",
   "metadata": {},
   "source": [
    "When we fill the surface white in STEP TWO we actually just passed a tuple (255,255,255). This is because computers use numbers to represent colors. Each pixel on your screen has a Red, Green, and Blue value from 0 to 255. To make the color white we make all of these the max value.\n",
    "\n",
    "## The game loop\n",
    "Now that we can draw onto our screen we want to be able to move the objects we draw around. This can be accomplished using a while loop. There is already a while loop in the code above. It's purpose is to check when the exit button is pressed. We can use this loop to move our surface.\n"
   ]
  },
  {
   "cell_type": "code",
   "execution_count": 3,
   "metadata": {},
   "outputs": [],
   "source": [
    "pygame.init()\n",
    "screen = pygame.display.set_mode((800,600))\n",
    "clock = pygame.time.Clock()\n",
    "\n",
    "# STEP ONE: Creats a surface of size 75x75\n",
    "surf = pygame.Surface((75,75))\n",
    "\n",
    "#STEP TWO: Fills the surface with the color white\n",
    "surf.fill((255,255,255))\n",
    "\n",
    "#STEP THREE: Draws the surface onto the screen at position 0,0\n",
    "x_pos = 5\n",
    "y_pos = 5\n",
    "direction = [1,1]\n",
    "\n",
    "    \n",
    "#Exit loop\n",
    "running=True\n",
    "while running:\n",
    "    #Checks if the exit button has been clicked\n",
    "    for event in pygame.event.get():\n",
    "        if event.type==QUIT:\n",
    "            #Quits the game\n",
    "            running=False\n",
    "            \n",
    "    #Logic for moving the surface\n",
    "    if x_pos>300:\n",
    "        direction[0]=-1\n",
    "    if y_pos>500:\n",
    "        direction[1]=-1\n",
    "    if x_pos<2:\n",
    "        direction[0]=1\n",
    "    if y_pos<2:\n",
    "        direction[1]=1\n",
    "    \n",
    "    #Make the desired move\n",
    "    x_pos = x_pos + direction[0]\n",
    "    y_pos = y_pos + direction[1]\n",
    "    \n",
    "    #redraw the surface\n",
    "    screen.fill((0,0,0))\n",
    "    screen.blit(surf,(x_pos,y_pos))\n",
    "    pygame.display.flip()\n",
    "    \n",
    "    #slows the game to a given FPS (lower numbers mean slower motion)\n",
    "    clock.tick(100)\n",
    "    \n",
    "pygame.quit()"
   ]
  },
  {
   "cell_type": "markdown",
   "metadata": {},
   "source": [
    "Notice $clock.tick$ at the end of the loop. This function slows our loop down to a desired speed. We can increase the number to make it faster. However, there is an upper limit to how fast our computer can run the loop.\n",
    "\n",
    "### Animation\n",
    "Our box looks like it is moving because we are drawing it slightly differently each time. Notice the 'x_pos' and 'y_pos' change each time the surface is redrawn."
   ]
  },
  {
   "cell_type": "code",
   "execution_count": null,
   "metadata": {
    "collapsed": true
   },
   "outputs": [],
   "source": []
  }
 ],
 "metadata": {
  "kernelspec": {
   "display_name": "Python 3",
   "language": "python",
   "name": "python3"
  },
  "language_info": {
   "codemirror_mode": {
    "name": "ipython",
    "version": 3
   },
   "file_extension": ".py",
   "mimetype": "text/x-python",
   "name": "python",
   "nbconvert_exporter": "python",
   "pygments_lexer": "ipython3",
   "version": "3.6.1"
  }
 },
 "nbformat": 4,
 "nbformat_minor": 2
}
