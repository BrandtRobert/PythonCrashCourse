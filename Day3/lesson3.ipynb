{
 "cells": [
  {
   "cell_type": "markdown",
   "metadata": {},
   "source": [
    "## Displaying text in pygame\n",
    "\n",
    "Before we start using text, we need to initialize our font. We can do this with the following two lines of code:\n",
    "```\n",
    "default_font = pygame.font.get_default_font()\n",
    "font = pygame.font.Font(default_font, 32)\n",
    "```"
   ]
  },
  {
   "cell_type": "code",
   "execution_count": 14,
   "metadata": {
    "scrolled": true
   },
   "outputs": [],
   "source": [
    "import pygame\n",
    "from pygame.locals import *\n",
    "pygame.init()\n",
    "default_font = pygame.font.get_default_font()\n",
    "font = pygame.font.Font(default_font, 32)"
   ]
  },
  {
   "cell_type": "markdown",
   "metadata": {},
   "source": [
    "Once we've initialized our font we can create a text surface by using\n",
    "```\n",
    "    font.render(\"Our text\", True, <our-font-color>, <a-background-color or None>)\n",
    "```\n",
    "\n",
    "Then we can just blit our font onto the screen like the surfaces we've used before"
   ]
  },
  {
   "cell_type": "code",
   "execution_count": 11,
   "metadata": {},
   "outputs": [
    {
     "name": "stdout",
     "output_type": "stream",
     "text": [
      "(148, 16)\n"
     ]
    }
   ],
   "source": [
    "screen  = pygame.display.set_mode((800, 600))\n",
    "\n",
    "text = font.render(\"Some example text\", True, (255, 255, 255), (0, 0, 0))\n",
    "\n",
    "running = True\n",
    "while running:\n",
    "    for event in pygame.event.get():\n",
    "        if event.type == QUIT:\n",
    "            running = False\n",
    "    screen.blit(text, (400, 300))\n",
    "    pygame.display.flip()\n",
    "    \n",
    "pygame.display.quit()"
   ]
  },
  {
   "cell_type": "markdown",
   "metadata": {},
   "source": [
    "## Practice\n",
    "\n",
    "Now we are going to practice writing text to our pygame window. Copy the following code into trinket and follow the instructions to get text to display."
   ]
  },
  {
   "cell_type": "code",
   "execution_count": 5,
   "metadata": {},
   "outputs": [],
   "source": [
    "import pygame\n",
    "from pygame.locals import *\n",
    "pygame.init()\n",
    "\n",
    "'''\n",
    "    1. Initialize the font by using\n",
    "        - default_font = pygame.font.get_default_font()\n",
    "        - font = pygame.font.Font(default_font, 32)\n",
    "'''\n",
    "# <name_this: default_font> = pygame.font.get_default_font()\n",
    "# font = pygame.font.Font(<put default_font here>, 18)\n",
    "\n",
    "default_font = pygame.font.get_default_font()\n",
    "font = pygame.font.Font(default_font, 32)\n",
    "\n",
    "screen  = pygame.display.set_mode((800, 600))\n",
    "\n",
    "'''\n",
    "    2. Create some text by using\n",
    "        - font.render(\"Your text\", True, (255,255,255), (0,0,0))\n",
    "'''\n",
    "text = # set equal to font.render(....) like above\n",
    "\n",
    "running = True\n",
    "while running:\n",
    "    for event in pygame.event.get():\n",
    "        if event.type == QUIT:\n",
    "            running = False\n",
    "    '''\n",
    "        3. Use screen.blit(<your-text-object>, (<position_x>, <position_y>)) to draw your text\n",
    "    '''\n",
    "#     screen.blit()\n",
    "    pygame.display.flip()\n",
    "    \n",
    "pygame.display.quit()"
   ]
  },
  {
   "cell_type": "markdown",
   "metadata": {},
   "source": [
    "## Loading Images into Pygame\n",
    "\n",
    "We may want something other than just squares so that we can make our games interesting, in this lesson we are going to show you how to load images into pygame, and make your surfaces images instead of squares."
   ]
  },
  {
   "cell_type": "code",
   "execution_count": 14,
   "metadata": {},
   "outputs": [],
   "source": [
    "import pygame\n",
    "from pygame import *\n",
    "pygame.init()\n",
    "\n",
    "screen = pygame.display.set_mode((800, 600))\n",
    "\n",
    "image = pygame.image.load('./ultra-ball.png')\n",
    "image = pygame.transform.scale(image, (200,200)).convert_alpha()\n",
    "\n",
    "rect = image.get_rect()\n",
    "rect.center = (400, 300)\n",
    "\n",
    "running = True\n",
    "while running:\n",
    "    for event in pygame.event.get():\n",
    "        if event.type == QUIT:\n",
    "            running = False\n",
    "    \n",
    "    screen.blit(image, rect)\n",
    "    pygame.display.flip()\n",
    "pygame.display.quit()"
   ]
  },
  {
   "cell_type": "markdown",
   "metadata": {},
   "source": [
    "Now it's your turn to try to get this working in trinket. You will have to upload the ultra-ball image to your trinket. I can demonstrate this in class. Look at the course page for the link to the image."
   ]
  }
 ],
 "metadata": {
  "kernelspec": {
   "display_name": "Python 3",
   "language": "python",
   "name": "python3"
  },
  "language_info": {
   "codemirror_mode": {
    "name": "ipython",
    "version": 3
   },
   "file_extension": ".py",
   "mimetype": "text/x-python",
   "name": "python",
   "nbconvert_exporter": "python",
   "pygments_lexer": "ipython3",
   "version": "3.6.1"
  }
 },
 "nbformat": 4,
 "nbformat_minor": 2
}
