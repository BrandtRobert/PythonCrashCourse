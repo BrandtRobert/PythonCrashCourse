{
 "cells": [
  {
   "cell_type": "markdown",
   "metadata": {},
   "source": [
    "## Displaying text in pygame\n",
    "\n",
    "Before we start using text, we need to initialize our font. We can do this with the following two lines of code:\n",
    "```\n",
    "default_font = pygame.font.get_default_font()\n",
    "font = pygame.font.Font(default_font, 32)\n",
    "```"
   ]
  },
  {
   "cell_type": "code",
   "execution_count": 16,
   "metadata": {
    "scrolled": true
   },
   "outputs": [],
   "source": [
    "import pygame\n",
    "from pygame.locals import *\n",
    "pygame.init()\n",
    "default_font = pygame.font.get_default_font()\n",
    "font = pygame.font.Font(default_font, 32)"
   ]
  },
  {
   "cell_type": "markdown",
   "metadata": {},
   "source": [
    "Once we've initialized our font we can create a text surface by using\n",
    "```\n",
    "    font.render(\"Our text\", True, <our-font-color>, <a-background-color or None>)\n",
    "```\n",
    "\n",
    "Then we can just blit our font onto the screen like the surfaces we've used before"
   ]
  },
  {
   "cell_type": "code",
   "execution_count": 17,
   "metadata": {},
   "outputs": [
    {
     "ename": "error",
     "evalue": "Couldn't figure out current display mode.",
     "output_type": "error",
     "traceback": [
      "\u001b[0;31m---------------------------------------------------------------------------\u001b[0m",
      "\u001b[0;31merror\u001b[0m                                     Traceback (most recent call last)",
      "\u001b[0;32m<ipython-input-17-d00c193517ad>\u001b[0m in \u001b[0;36m<module>\u001b[0;34m\u001b[0m\n\u001b[0;32m----> 1\u001b[0;31m \u001b[0mscreen\u001b[0m  \u001b[0;34m=\u001b[0m \u001b[0mpygame\u001b[0m\u001b[0;34m.\u001b[0m\u001b[0mdisplay\u001b[0m\u001b[0;34m.\u001b[0m\u001b[0mset_mode\u001b[0m\u001b[0;34m(\u001b[0m\u001b[0;34m(\u001b[0m\u001b[0;36m800\u001b[0m\u001b[0;34m,\u001b[0m \u001b[0;36m600\u001b[0m\u001b[0;34m)\u001b[0m\u001b[0;34m)\u001b[0m\u001b[0;34m\u001b[0m\u001b[0m\n\u001b[0m\u001b[1;32m      2\u001b[0m \u001b[0;34m\u001b[0m\u001b[0m\n\u001b[1;32m      3\u001b[0m \u001b[0mtext\u001b[0m \u001b[0;34m=\u001b[0m \u001b[0mfont\u001b[0m\u001b[0;34m.\u001b[0m\u001b[0mrender\u001b[0m\u001b[0;34m(\u001b[0m\u001b[0;34m\"Some example text\"\u001b[0m\u001b[0;34m,\u001b[0m \u001b[0;32mTrue\u001b[0m\u001b[0;34m,\u001b[0m \u001b[0;34m(\u001b[0m\u001b[0;36m255\u001b[0m\u001b[0;34m,\u001b[0m \u001b[0;36m255\u001b[0m\u001b[0;34m,\u001b[0m \u001b[0;36m255\u001b[0m\u001b[0;34m)\u001b[0m\u001b[0;34m,\u001b[0m \u001b[0;34m(\u001b[0m\u001b[0;36m0\u001b[0m\u001b[0;34m,\u001b[0m \u001b[0;36m0\u001b[0m\u001b[0;34m,\u001b[0m \u001b[0;36m0\u001b[0m\u001b[0;34m)\u001b[0m\u001b[0;34m)\u001b[0m\u001b[0;34m\u001b[0m\u001b[0m\n\u001b[1;32m      4\u001b[0m \u001b[0;34m\u001b[0m\u001b[0m\n\u001b[1;32m      5\u001b[0m \u001b[0mrunning\u001b[0m \u001b[0;34m=\u001b[0m \u001b[0;32mTrue\u001b[0m\u001b[0;34m\u001b[0m\u001b[0m\n",
      "\u001b[0;31merror\u001b[0m: Couldn't figure out current display mode."
     ]
    }
   ],
   "source": [
    "screen  = pygame.display.set_mode((800, 600))\n",
    "\n",
    "text = font.render(\"Some example text\", True, (255, 255, 255), (0, 0, 0))\n",
    "\n",
    "running = True\n",
    "while running:\n",
    "    for event in pygame.event.get():\n",
    "        if event.type == QUIT:\n",
    "            running = False\n",
    "    screen.blit(text, (400, 300))\n",
    "    pygame.display.flip()\n",
    "    \n",
    "pygame.display.quit()"
   ]
  },
  {
   "cell_type": "markdown",
   "metadata": {},
   "source": [
    "## Practice\n",
    "\n",
    "Now we are going to practice writing text to our pygame window. Copy the following code into trinket and follow the instructions to get text to display."
   ]
  },
  {
   "cell_type": "code",
   "execution_count": 5,
   "metadata": {},
   "outputs": [],
   "source": [
    "import pygame\n",
    "from pygame.locals import *\n",
    "pygame.init()\n",
    "\n",
    "'''\n",
    "    1. Initialize the font by using\n",
    "        - default_font = pygame.font.get_default_font()\n",
    "        - font = pygame.font.Font(default_font, 32)\n",
    "'''\n",
    "# <name_this: default_font> = pygame.font.get_default_font()\n",
    "# font = pygame.font.Font(<put default_font here>, 18)\n",
    "\n",
    "default_font = pygame.font.get_default_font()\n",
    "font = pygame.font.Font(default_font, 32)\n",
    "\n",
    "screen  = pygame.display.set_mode((800, 600))\n",
    "\n",
    "'''\n",
    "    2. Create some text by using\n",
    "        - font.render(\"Your text\", True, (255,255,255), (0,0,0))\n",
    "'''\n",
    "text = # set equal to font.render(....) like above\n",
    "\n",
    "running = True\n",
    "while running:\n",
    "    for event in pygame.event.get():\n",
    "        if event.type == QUIT:\n",
    "            running = False\n",
    "    '''\n",
    "        3. Use screen.blit(<your-text-object>, (<position_x>, <position_y>)) to draw your text\n",
    "    '''\n",
    "#     screen.blit()\n",
    "    pygame.display.flip()\n",
    "    \n",
    "pygame.display.quit()"
   ]
  },
  {
   "cell_type": "markdown",
   "metadata": {},
   "source": [
    "## Loading Images into Pygame\n",
    "\n",
    "We may want something other than just squares so that we can make our games interesting, in this lesson we are going to show you how to load images into pygame, and make your surfaces images instead of squares."
   ]
  },
  {
   "cell_type": "code",
   "execution_count": 14,
   "metadata": {},
   "outputs": [],
   "source": [
    "import pygame\n",
    "from pygame import *\n",
    "pygame.init()\n",
    "\n",
    "screen = pygame.display.set_mode((800, 600))\n",
    "\n",
    "image = pygame.image.load('./ultra-ball.png')\n",
    "image = pygame.transform.scale(image, (200,200)).convert_alpha()\n",
    "\n",
    "rect = image.get_rect()\n",
    "rect.center = (400, 300)\n",
    "\n",
    "running = True\n",
    "while running:\n",
    "    for event in pygame.event.get():\n",
    "        if event.type == QUIT:\n",
    "            running = False\n",
    "    \n",
    "    screen.blit(image, rect)\n",
    "    pygame.display.flip()\n",
    "pygame.display.quit()"
   ]
  },
  {
   "cell_type": "markdown",
   "metadata": {},
   "source": [
    "Now it's your turn to try to get this working in trinket. You will have to upload the ultra-ball image to your trinket. I can demonstrate this in class. Look at the course page for the link to the image."
   ]
  }
 ],
 "metadata": {
  "kernelspec": {
   "display_name": "Python 3",
   "language": "python",
   "name": "python3"
  },
  "language_info": {
   "codemirror_mode": {
    "name": "ipython",
    "version": 3
   },
   "file_extension": ".py",
   "mimetype": "text/x-python",
   "name": "python",
   "nbconvert_exporter": "python",
   "pygments_lexer": "ipython3",
   "version": "3.6.1"
  }
 },
 "nbformat": 4,
 "nbformat_minor": 2
}
