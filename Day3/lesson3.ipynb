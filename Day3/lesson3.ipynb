{
 "cells": [
  {
   "cell_type": "markdown",
   "metadata": {},
   "source": [
    "## Displaying text in pygame\n",
    "\n",
    "Before we start using text, we need to initialize our font. We can do this with the following two lines of code:\n",
    "```\n",
    "default_font = pygame.font.get_default_font()\n",
    "font = pygame.font.Font(default_font, 32)\n",
    "```"
   ]
  },
  {
   "cell_type": "code",
   "execution_count": 14,
   "metadata": {
    "scrolled": true
   },
   "outputs": [],
   "source": [
    "import pygame\n",
    "from pygame.locals import *\n",
    "pygame.init()\n",
    "default_font = pygame.font.get_default_font()\n",
    "font = pygame.font.Font(default_font, 32)"
   ]
  },
  {
   "cell_type": "markdown",
   "metadata": {},
   "source": [
    "Once we've initialized our font we can create a text surface by using\n",
    "```\n",
    "    font.render(\"Our text\", True, <our-font-color>, <a-background-color or None>)\n",
    "```\n",
    "\n",
    "Then we can just blit our font onto the screen like the surfaces we've used before"
   ]
  },
  {
   "cell_type": "code",
   "execution_count": 11,
   "metadata": {},
   "outputs": [
    {
     "name": "stdout",
     "output_type": "stream",
     "text": [
      "(148, 16)\n"
     ]
    }
   ],
   "source": [
    "screen  = pygame.display.set_mode((800, 600))\n",
    "\n",
    "text = font.render(\"Some example text\", True, (255, 255, 255), (0, 0, 0))\n",
    "\n",
    "running = True\n",
    "while running:\n",
    "    for event in pygame.event.get():\n",
    "        if event.type == QUIT:\n",
    "            running = False\n",
    "    screen.blit(text, (400, 300))\n",
    "    pygame.display.flip()\n",
    "    \n",
    "pygame.display.quit()"
   ]
  },
  {
   "cell_type": "code",
   "execution_count": null,
   "metadata": {},
   "outputs": [],
   "source": []
  }
 ],
 "metadata": {
  "kernelspec": {
   "display_name": "Python 3",
   "language": "python",
   "name": "python3"
  },
  "language_info": {
   "codemirror_mode": {
    "name": "ipython",
    "version": 3
   },
   "file_extension": ".py",
   "mimetype": "text/x-python",
   "name": "python",
   "nbconvert_exporter": "python",
   "pygments_lexer": "ipython3",
   "version": "3.6.1"
  }
 },
 "nbformat": 4,
 "nbformat_minor": 2
}
