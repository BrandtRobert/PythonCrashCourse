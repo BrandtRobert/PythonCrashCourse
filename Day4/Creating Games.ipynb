{
 "cells": [
  {
   "cell_type": "markdown",
   "metadata": {},
   "source": [
    "## Creating a Game of your own\n",
    "Here are all of the tools we've used this weel to build games. You will probably need each of these to build a game of your own.\n",
    "\n",
    "### Game Data\n",
    "We have been using variables from the very beggining to keep track of what is going on in our games. The very first place we saw this was in our tic-tac-toe game, and we have been using variables in every game we've made since.\n",
    "* First, think about what variables you will need to keep track of the game\n",
    "    * For our tic-tac-toe game we had three lists to represent the board and a boolean to represent who's turn it was\n",
    "* Next, figure out what the starting values for the variables are\n",
    "    * In tic-tac-toe the board was initially empty (all spaces) and the first turn was white\n",
    "\n",
    "\n",
    "#### Example"
   ]
  },
  {
   "cell_type": "code",
   "execution_count": null,
   "metadata": {},
   "outputs": [],
   "source": [
    "# VARIABLES   |   Starting Values\n",
    "board1        =    [\" \",\" \",\" \"]\n",
    "board2        =    [\" \",\" \",\" \"]\n",
    "board3        =    [\" \",\" \",\" \"]\n",
    "x_turn        =    True\n",
    "\n"
   ]
  },
  {
   "cell_type": "markdown",
   "metadata": {},
   "source": [
    "### Game loop\n",
    "After we have our game data we need to determine how it will change as the game progresses. It was easiest to think about this when we were writing turn based games (like tic-tac-toe or hangman) because each completion of the loop represented a turn. Later, after we started using graphics, the Game loop represented a single frame of our animation.\n",
    "\n",
    "#### Example"
   ]
  },
  {
   "cell_type": "code",
   "execution_count": null,
   "metadata": {},
   "outputs": [],
   "source": [
    "running = True\n",
    "while running:\n",
    "    #some way to set running to False, and exit our game\n",
    "    \n",
    "    #Any updates we need to make to our game data"
   ]
  },
  {
   "cell_type": "markdown",
   "metadata": {},
   "source": [
    "### User input\n",
    "We saw several different ways of doing this. First we looked at how to get text input using the $input()$ function. After we introduced graphics we saw how to get user input as key strokes or mouse clicks.\n",
    "\n",
    "#### Examples"
   ]
  },
  {
   "cell_type": "code",
   "execution_count": 1,
   "metadata": {},
   "outputs": [
    {
     "name": "stdout",
     "output_type": "stream",
     "text": [
      "Your input:Hello\n",
      "Your number:6\n",
      "Hello\n",
      "6\n"
     ]
    }
   ],
   "source": [
    "# Text input\n",
    "text = input(\"Your input:\")\n",
    "# Remember if we want the input as an integer (not a string) we write it like this\n",
    "number = int(input(\"Your number:\"))\n",
    "\n",
    "print(text)\n",
    "print(number)"
   ]
  },
  {
   "cell_type": "code",
   "execution_count": 4,
   "metadata": {},
   "outputs": [
    {
     "name": "stdout",
     "output_type": "stream",
     "text": [
      "n\n",
      "j\n",
      "n\n"
     ]
    }
   ],
   "source": [
    "import pygame\n",
    "from pygame.locals import *\n",
    "pygame.init()\n",
    "pygame.display.set_mode((100,100))\n",
    "clock = pygame.time.Clock()\n",
    "\n",
    "\n",
    "#Key Strokes\n",
    "running=True\n",
    "while running:\n",
    "    for event in pygame.event.get():\n",
    "        if event.type==QUIT:\n",
    "            running=False\n",
    "        if event.type==KEYDOWN:\n",
    "            #handle the keydown some way\n",
    "            print(chr(event.key))\n",
    "    clock.tick(30)"
   ]
  },
  {
   "cell_type": "markdown",
   "metadata": {},
   "source": [
    "### Animation\n",
    "The first thing we learned after creating our windows was how to animate objects. Remember that we need to have special variables to represent the position of the object. By changing these variables slightly each time we execute the game loop and redrawing our object at the new position we are able to animate it."
   ]
  },
  {
   "cell_type": "code",
   "execution_count": 3,
   "metadata": {},
   "outputs": [
    {
     "name": "stdout",
     "output_type": "stream",
     "text": [
      "pygame 1.9.6\n",
      "Hello from the pygame community. https://www.pygame.org/contribute.html\n"
     ]
    }
   ],
   "source": [
    "import pygame\n",
    "from pygame.locals import *\n",
    "\n",
    "pygame.init()\n",
    "screen = pygame.display.set_mode((800,600))\n",
    "clock = pygame.time.Clock()\n",
    "\n",
    "# STEP ONE: Creats a surface of size 75x75\n",
    "surf = pygame.Surface((75,75))\n",
    "\n",
    "#STEP TWO: Fills the surface with the color white\n",
    "surf.fill((255,255,255))\n",
    "\n",
    "#STEP THREE: Draws the surface onto the screen at position 0,0\n",
    "x_pos = 5\n",
    "y_pos = 5\n",
    "direction = [1,1]\n",
    "\n",
    "    \n",
    "#Exit loop\n",
    "running=True\n",
    "while running:\n",
    "    #Checks if the exit button has been clicked\n",
    "    for event in pygame.event.get():\n",
    "        if event.type==QUIT:\n",
    "            #Quits the game\n",
    "            running=False\n",
    "            \n",
    "    #Logic for moving the surface\n",
    "    if x_pos>300:\n",
    "        direction[0]=-1\n",
    "    if y_pos>500:\n",
    "        direction[1]=-1\n",
    "    if x_pos<2:\n",
    "        direction[0]=1\n",
    "    if y_pos<2:\n",
    "        direction[1]=1\n",
    "    \n",
    "    #Make the desired move\n",
    "    x_pos = x_pos + direction[0]\n",
    "    y_pos = y_pos + direction[1]\n",
    "    \n",
    "    #redraw the surface\n",
    "    screen.fill((0,0,0))\n",
    "    screen.blit(surf,(x_pos,y_pos))\n",
    "    pygame.display.flip()\n",
    "    \n",
    "    #slows the game to a given FPS (lower numbers mean slower motion)\n",
    "    clock.tick(100)\n",
    "    \n",
    "pygame.quit()"
   ]
  },
  {
   "cell_type": "markdown",
   "metadata": {},
   "source": [
    "### Sprites and Collisions\n",
    "To make our games more interesting we added collisions. To do this we had to create sprites, a tool the pygame library provides for us to detect collisions.\n",
    "\n",
    "### Example"
   ]
  },
  {
   "cell_type": "code",
   "execution_count": 4,
   "metadata": {},
   "outputs": [],
   "source": [
    "import pygame\n",
    "from pygame.locals import *\n",
    "\n",
    "clock=pygame.time.Clock()\n",
    "\n",
    "pygame.init()\n",
    "\n",
    "class Player(pygame.sprite.Sprite):\n",
    "    def __init__(self):\n",
    "        super(Player, self).__init__()\n",
    "        self.surf = pygame.Surface((75,75))\n",
    "        self.surf.fill((255,255,255))\n",
    "        self.rect = self.surf.get_rect(center=(300,400))\n",
    "        self.direction=(1,0)\n",
    "        self.speed=10\n",
    "        \n",
    "    def update(self):\n",
    "        self.rect.move_ip(self.direction[0]*self.speed, self.direction[1]*self.speed)\n",
    "        \n",
    "# STEP 1: Creates an enemy which tries to catch the player\n",
    "class Enemy(pygame.sprite.Sprite):\n",
    "    def __init__(self,pos):\n",
    "        super(Enemy, self).__init__()\n",
    "        self.surf = pygame.Surface((20,10))\n",
    "        self.surf.fill((255,0,0))\n",
    "        self.rect = self.surf.get_rect(center=pos)\n",
    "        self.speed = 7\n",
    "    \n",
    "    #Logic to follow the player\n",
    "    def update(self,player):\n",
    "        x_diff = player.rect[0] - self.rect[0]\n",
    "        y_diff = player.rect[1] - self.rect[1]\n",
    "        mag = (x_diff**2+y_diff**2)**(1/2)\n",
    "        direction = (self.speed/mag*x_diff, self.speed/mag*y_diff)\n",
    "        self.rect.move_ip(direction[0], direction[1])\n",
    "\n",
    "screen = pygame.display.set_mode((800,600))\n",
    "\n",
    "#STEP 2: creating sprites and sprite groups\n",
    "\n",
    "#Create a new player\n",
    "player = Player()\n",
    "\n",
    "#create an enemy\n",
    "enemy = Enemy((0,0))\n",
    "enemy2 = Enemy((300,400))\n",
    "#Create enemy group (used for collisions)\n",
    "enemies = pygame.sprite.Group()\n",
    "enemies.add(enemy)\n",
    "\n",
    "#creates group for all sprites (used for drawing)\n",
    "all_sprites = pygame.sprite.Group()\n",
    "#add player\n",
    "all_sprites.add(player)\n",
    "#add enemy\n",
    "all_sprites.add(enemy)\n",
    "all_sprites.add(enemy2)\n",
    "\n",
    "\n",
    "running=True\n",
    "while running:\n",
    "    for event in pygame.event.get():\n",
    "        if event.type==QUIT:\n",
    "            running=False\n",
    "        if event.type==KEYUP:\n",
    "            if event.key == K_UP:\n",
    "                player.direction = (0,-1)\n",
    "            if event.key == K_DOWN:\n",
    "                player.direction = (0,1)\n",
    "            if event.key == K_RIGHT:\n",
    "                player.direction = (1,0)\n",
    "            if event.key == K_LEFT:\n",
    "                player.direction = (-1,0)\n",
    "    \n",
    "    #STEP 3: update positions\n",
    "    player.update()\n",
    "    enemy.update(player)\n",
    "    enemy2.update(player)\n",
    "    screen.fill((0,0,0))\n",
    "    for entity in all_sprites:\n",
    "        screen.blit(entity.surf, entity.rect)\n",
    "    \n",
    "    #STEP 4: test for collisions\n",
    "    if pygame.sprite.spritecollideany(player, enemies):\n",
    "        player.kill()\n",
    "        running=False\n",
    "    \n",
    "    pygame.display.flip()\n",
    "    clock.tick(30)\n",
    "    \n",
    "pygame.quit()"
   ]
  }
 ],
 "metadata": {
  "kernelspec": {
   "display_name": "Python 3",
   "language": "python",
   "name": "python3"
  },
  "language_info": {
   "codemirror_mode": {
    "name": "ipython",
    "version": 3
   },
   "file_extension": ".py",
   "mimetype": "text/x-python",
   "name": "python",
   "nbconvert_exporter": "python",
   "pygments_lexer": "ipython3",
   "version": "3.6.8"
  }
 },
 "nbformat": 4,
 "nbformat_minor": 2
}
