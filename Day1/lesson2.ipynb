{
 "cells": [
  {
   "cell_type": "markdown",
   "metadata": {},
   "source": [
    "### Part 1: Numbers and Assignment "
   ]
  },
  {
   "cell_type": "code",
   "execution_count": 3,
   "metadata": {},
   "outputs": [
    {
     "name": "stdout",
     "output_type": "stream",
     "text": [
      "Value of x: 1\n",
      "Value of y: 2\n",
      "Value of x after \"x=y\": 2\n"
     ]
    }
   ],
   "source": [
    "# Here we are storing some numbers in python\n",
    "# Now in programming languages it's important to know that\n",
    "# the '=' doesn't ask the question \"is equal to?\"\n",
    "# It rather says \"set this variable equal to\", or \"store this value in here\"\n",
    "\n",
    "x = 1  # This statement tells python store the number '1' in the variable called 'x'\n",
    "y = 2  # This statement tells python to store the number '2' in the variable called 'y'\n",
    "\n",
    "# Let's print these out just to verify\n",
    "# Notice that if we just put in 'x' or 'y' we don't use quotes\n",
    "\n",
    "# Also I am adding a few print statements to make it easier to read on the console\n",
    "# output. You don't have to understand these right now\n",
    "\n",
    "print('Value of x: ', end='')  # Ignore this statement for now\n",
    "print(x)  # Prints out 1\n",
    "print('Value of y: ', end='')  # Ignore this statement for now\n",
    "print(y)  # Prints out 2\n",
    "\n",
    "# Here's another cool trick that can be done\n",
    "x = y\n",
    "# So what is the value of 'x' going to be now?\n",
    "# Let's check by printing out what's stored in x\n",
    "print('Value of x after \"x=y\": ', end='')  # Ignore this statement for now\n",
    "print(x)\n",
    "# How did 'x' become '2'? We'll the statement 'x = y' tells python to\n",
    "# take whatever is in y and put it in x"
   ]
  },
  {
   "cell_type": "markdown",
   "metadata": {},
   "source": [
    "### Part 2: Python data types\n",
    "\n",
    "Now obviously if wanna build a game we need more than just the ability to print\n",
    "out numbers and text. We need to be able to do calculations, and store data.\n",
    "In python we have something called data types. Data types are exactly as they sound the\n",
    "different types of data the exist in a coding language.\n",
    "What could you come up with if thought of different types of data? Maybe you are makng \n",
    "a survey and the participants are going to have to answer some questions?\n",
    "You might have several types of survey questions:\n",
    "   * True / False\n",
    "   * Short answer or text answers, like free response\n",
    "   * Numerical questions like \"How old are you?\", \"How many miles do you drive a day?\"\n",
    "You can think of data types in a very similiar fashion"
   ]
  },
  {
   "cell_type": "markdown",
   "metadata": {},
   "source": [
    "#### Integer\n",
    "\n",
    "We've already seen the numerical data type. This data type is reffered to as an integer (a postive or negative whole number)"
   ]
  },
  {
   "cell_type": "code",
   "execution_count": 4,
   "metadata": {},
   "outputs": [
    {
     "name": "stdout",
     "output_type": "stream",
     "text": [
      "\n",
      "Value of x: 54\n",
      "Value of z: -54\n"
     ]
    }
   ],
   "source": [
    "print('\\nValue of x: ', end='')  # Ignore this statement for now\n",
    "x = 54\n",
    "print(x)\n",
    "print('Value of z: ', end='')  # Ignore this statement for now\n",
    "z = -54\n",
    "print(z)\n",
    "\n",
    "# Let's look at some other fundamental python data types"
   ]
  },
  {
   "cell_type": "markdown",
   "metadata": {},
   "source": [
    "#### Floating Point\n",
    "\n",
    "Here is the floating point data type. It's kind of a weird name but it means that it's a data type that has a decimal point in it. The name comes from a certain computer engineering specification that's kind of complicated"
   ]
  },
  {
   "cell_type": "code",
   "execution_count": 5,
   "metadata": {},
   "outputs": [
    {
     "name": "stdout",
     "output_type": "stream",
     "text": [
      "\n",
      "Value of pi 3.14\n",
      "Value of d -780.97\n"
     ]
    }
   ],
   "source": [
    "\n",
    "pi = 3.14\n",
    "print('\\nValue of pi ', end='')  # Ignore this statement for now\n",
    "print(pi)\n",
    "d = -780.97\n",
    "print('Value of d ', end='')  # Ignore this statement for now\n",
    "print(d)"
   ]
  },
  {
   "cell_type": "markdown",
   "metadata": {},
   "source": [
    "#### Boolean\n",
    "Here is the boolean data type. It's a fancy name for True/False\n",
    "It's named after English mathematician George Boole who's ideas were a fundamental force in computer science and logic"
   ]
  },
  {
   "cell_type": "code",
   "execution_count": 6,
   "metadata": {},
   "outputs": [
    {
     "name": "stdout",
     "output_type": "stream",
     "text": [
      "\n",
      "Value of a: True\n",
      "Value of b: False\n"
     ]
    }
   ],
   "source": [
    "a = True\n",
    "b = False\n",
    "print('\\nValue of a: ', end='')  # Ignore this statement for now\n",
    "print(a)\n",
    "print('Value of b: ', end='')  # Ignore this statement for now\n",
    "print(b)"
   ]
  },
  {
   "cell_type": "markdown",
   "metadata": {},
   "source": [
    "#### String\n",
    "Here is the string data type. You can think of it as text. It's short for 'string of characters'. And in python you might see it referred to an even shorted name 'str'"
   ]
  },
  {
   "cell_type": "code",
   "execution_count": 7,
   "metadata": {},
   "outputs": [
    {
     "name": "stdout",
     "output_type": "stream",
     "text": [
      "\n",
      "Value of h: Hello\n",
      "Value of g: Banana\n"
     ]
    }
   ],
   "source": [
    "h = 'Hello'\n",
    "g = 'Banana'\n",
    "print('\\nValue of h: ', end='')  # Ignore this statement for now\n",
    "print(h)\n",
    "print('Value of g: ', end='')  # Ignore this statement for now\n",
    "print(g)"
   ]
  }
 ],
 "metadata": {
  "kernelspec": {
   "display_name": "Python 3",
   "language": "python",
   "name": "python3"
  },
  "language_info": {
   "codemirror_mode": {
    "name": "ipython",
    "version": 3
   },
   "file_extension": ".py",
   "mimetype": "text/x-python",
   "name": "python",
   "nbconvert_exporter": "python",
   "pygments_lexer": "ipython3",
   "version": "3.6.8"
  }
 },
 "nbformat": 4,
 "nbformat_minor": 2
}
