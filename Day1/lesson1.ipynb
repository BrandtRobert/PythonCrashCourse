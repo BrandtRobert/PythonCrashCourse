{
 "cells": [
  {
   "cell_type": "markdown",
   "metadata": {},
   "source": [
    "### Part 1: Hello World"
   ]
  },
  {
   "cell_type": "code",
   "execution_count": 1,
   "metadata": {},
   "outputs": [
    {
     "name": "stdout",
     "output_type": "stream",
     "text": [
      "Hello World\n",
      "My name is Brandt\n"
     ]
    }
   ],
   "source": [
    "# Hello World!\n",
    "# This is my first Python Program\n",
    "# How do I make the computer say \"Hello World\"?\n",
    "print ('Hello World')\n",
    "# Can you change this to say your name?\n",
    "print ('My name is Brandt')"
   ]
  },
  {
   "cell_type": "markdown",
   "metadata": {},
   "source": [
    "### Part 2: Spacing"
   ]
  },
  {
   "cell_type": "code",
   "execution_count": 9,
   "metadata": {},
   "outputs": [
    {
     "name": "stdout",
     "output_type": "stream",
     "text": [
      "Spaces?\n",
      "1. Hello World\n",
      "2. Hello World\n",
      "3. Hello World\n",
      "4. Hello World\n",
      "5. Hello World\n",
      "6. Hello World\n",
      "7. Hello World\n",
      "8. Hello world\n"
     ]
    }
   ],
   "source": [
    "print('Spaces?')\n",
    "# Here's something to notice, the amount of space between\n",
    "# Print and the first '(' doesn't really matter\n",
    "print ('1. Hello World')\n",
    "print         ('2. Hello World')\n",
    "# Even between the parentheses\n",
    "print (    '3. Hello World'     )\n",
    "print ('4. Hello World'    )\n",
    "print (   '5. Hello World')\n",
    "# Or between lines\n",
    "print ('6. Hello World')\n",
    "\n",
    "\n",
    "# Python doesn't care that we've left all this space between lines\n",
    "# That's because it just ignore empty lines\n",
    "\n",
    "\n",
    "print ('7. Hello World')\n",
    "# You can also use double quotes if you like\n",
    "print (\"8. Hello world\")"
   ]
  },
  {
   "cell_type": "markdown",
   "metadata": {},
   "source": [
    "**However it's important to know that spaces before lines are something you should be careful about. Python uses a special indentation system and spacing before lines needs to be done in a specific way. We'll talk about this later.**"
   ]
  },
  {
   "cell_type": "markdown",
   "metadata": {},
   "source": [
    "### Part 3: Printing numbers and Text "
   ]
  },
  {
   "cell_type": "code",
   "execution_count": 12,
   "metadata": {},
   "outputs": [
    {
     "name": "stdout",
     "output_type": "stream",
     "text": [
      "What is the answer to life?\n",
      "42\n",
      "3.56\n"
     ]
    }
   ],
   "source": [
    "# As we already know print can use text\n",
    "print(\"What is the answer to life?\")\n",
    "# The print can also use numbers\n",
    "print(42)\n",
    "print(3.56)"
   ]
  },
  {
   "cell_type": "markdown",
   "metadata": {},
   "source": [
    "### Part 4: Comments"
   ]
  },
  {
   "cell_type": "code",
   "execution_count": 20,
   "metadata": {},
   "outputs": [
    {
     "name": "stdout",
     "output_type": "stream",
     "text": [
      "0\n"
     ]
    }
   ],
   "source": [
    "# If you haven't noticed by now, you can put a '#' before a line to tell\n",
    "# Python to ignore that line. Lines that start with a '#' are called comment lines or\n",
    "# comments.\n",
    "# This following line is a line of code, however, it starts with a '#' so it won't run\n",
    "\n",
    "# print ('Hello World')\n",
    "\n",
    "# Most coding editors will color comment lines different than code lines so it's\n",
    "# easy to tell.\n",
    "\n",
    "''' Did you notice that comments can also be down by using three single quotes? '''\n",
    "\n",
    "'''\n",
    "  Comments using three quotes can comment out multiple lines at once.\n",
    "  Thus why I can write this little blurb without having to keep adding a '#'\n",
    "  at the beginning of each line.\n",
    "'''\n",
    "\n",
    "\"\"\" You can also use three double-quotes to achieve the same function as the \" ''' \"\"\"\n",
    "\n",
    "# Remember that the \"\"\" and ''' will comment out everything until the next \"\"\" or '''\n",
    "# is seen.\n",
    "print(0)"
   ]
  }
 ],
 "metadata": {
  "kernelspec": {
   "display_name": "Python 3",
   "language": "python",
   "name": "python3"
  },
  "language_info": {
   "codemirror_mode": {
    "name": "ipython",
    "version": 3
   },
   "file_extension": ".py",
   "mimetype": "text/x-python",
   "name": "python",
   "nbconvert_exporter": "python",
   "pygments_lexer": "ipython3",
   "version": "3.6.8"
  }
 },
 "nbformat": 4,
 "nbformat_minor": 2
}
