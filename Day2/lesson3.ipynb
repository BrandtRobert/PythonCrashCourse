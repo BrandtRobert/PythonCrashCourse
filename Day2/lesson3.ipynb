{
 "cells": [
  {
   "cell_type": "markdown",
   "metadata": {},
   "source": [
    "## Part 1 - Functions\n",
    "\n",
    "Up to this point all of our code has been written so it can only run once. If we want to execute it again we have to restart the program. However, often times there are tasks which we need to complete over and over again. We can bundle these tasks into functions. "
   ]
  },
  {
   "cell_type": "code",
   "execution_count": 1,
   "metadata": {},
   "outputs": [
    {
     "name": "stdout",
     "output_type": "stream",
     "text": [
      "Strawberry\n"
     ]
    }
   ],
   "source": [
    "# Here is an example of a function\n",
    "\n",
    "def my_favorite_icecream():\n",
    "    print(\"Strawberry\")\n",
    "    \n",
    "my_favorite_icecream()"
   ]
  },
  {
   "cell_type": "markdown",
   "metadata": {},
   "source": [
    "#### Parameters\n",
    "Functions run the same code every time they are called, but we can change their behaviour by giving them different parameters."
   ]
  },
  {
   "cell_type": "code",
   "execution_count": 5,
   "metadata": {},
   "outputs": [
    {
     "name": "stdout",
     "output_type": "stream",
     "text": [
      "Soccer\n"
     ]
    }
   ],
   "source": [
    "# Here is a function with a parameter\n",
    "\n",
    "def my_favorite_sport(season):\n",
    "    if season is \"Summer\":\n",
    "        print(\"Soccer\")\n",
    "    if season is \"Winter\":\n",
    "        print(\"Skiing\")\n",
    "        \n",
    "my_favorite_sport(\"Summer\")"
   ]
  },
  {
   "cell_type": "markdown",
   "metadata": {},
   "source": [
    "#### Return Values\n",
    "Sometimes we want information back from the function. We can accomplish this by assigning a return value."
   ]
  },
  {
   "cell_type": "code",
   "execution_count": 6,
   "metadata": {},
   "outputs": [
    {
     "name": "stdout",
     "output_type": "stream",
     "text": [
      "9\n"
     ]
    }
   ],
   "source": [
    "def adder(a, b):\n",
    "    return a+b\n",
    "\n",
    "print(adder(4,5))"
   ]
  },
  {
   "cell_type": "markdown",
   "metadata": {},
   "source": [
    "Once a return value is set the function stops. None of the following lines will be executed."
   ]
  },
  {
   "cell_type": "code",
   "execution_count": 9,
   "metadata": {},
   "outputs": [
    {
     "data": {
      "text/plain": [
       "'a is not larger than b'"
      ]
     },
     "execution_count": 9,
     "metadata": {},
     "output_type": "execute_result"
    }
   ],
   "source": [
    "def compare(a, b):\n",
    "    if a>b:\n",
    "        return \"a is larger than b\"\n",
    "    \n",
    "    # we know a is not larger than b, \n",
    "    # because if it was we would have returned already\n",
    "    return \"a is not larger than b\"\n",
    "\n",
    "compare(2,3)"
   ]
  },
  {
   "cell_type": "markdown",
   "metadata": {},
   "source": [
    "## Part 2 - Classes\n",
    "Python is an object oriented language which means it allows us to bundle data and functions into an object. Once we have an object we can access its data and invoke its functions. \n",
    "\n",
    "Classes allow us to define a template for objects we want to create. We do this by defining what data it should contain and what functions it should have. When functions are inside of a class we call them methods."
   ]
  },
  {
   "cell_type": "code",
   "execution_count": 14,
   "metadata": {},
   "outputs": [
    {
     "name": "stdout",
     "output_type": "stream",
     "text": [
      "I am a small, red apple.\n"
     ]
    }
   ],
   "source": [
    "\n",
    "class apple:   \n",
    "    \n",
    "    #This is a constructor, it is a method we call to create an object of the type apple\n",
    "    def __init__(self, size, color):\n",
    "        # here we set the self.color and self.size. \n",
    "        # This member data that we can access from anywhere in the class\n",
    "        self.color=color\n",
    "        self.size=size\n",
    "        \n",
    "    # This is a method. It can be called on any object of the type apple\n",
    "    def what_are_you(self):\n",
    "        print(f\"I am a {self.size}, {self.color} apple.\")\n",
    "\n",
    "# We create a new apple object like this\n",
    "my_apple = apple(\"small\",\"red\")\n",
    "\n",
    "# We can invoke its method like this\n",
    "my_apple.what_are_you()\n",
    "        "
   ]
  },
  {
   "cell_type": "markdown",
   "metadata": {},
   "source": [
    "Notice that all of the methods inside of a class have a first argument called self. However, when we called the methods we don't have it. 'self' referers to the object itself. We use it to set and access the member data for the object. (In this case 'self.color' and 'self.size')\n",
    "\n",
    "### Another example"
   ]
  },
  {
   "cell_type": "code",
   "execution_count": 21,
   "metadata": {},
   "outputs": [
    {
     "name": "stdout",
     "output_type": "stream",
     "text": [
      "Area 78.53981633974483\n",
      "Circumference 31.41592653589793\n",
      "(2,3)? True\n",
      "(5,5)? False\n"
     ]
    }
   ],
   "source": [
    "#we need to import a library called math to get pi\n",
    "import math\n",
    "\n",
    "class circle:\n",
    "    def __init__(self, center, radius):\n",
    "        self.center=center\n",
    "        self.radius=radius\n",
    "    \n",
    "    def area(self):\n",
    "        return math.pi*(self.radius**2)\n",
    "    \n",
    "    def circomference(self):\n",
    "        return 2*math.pi*self.radius\n",
    "    \n",
    "    def is_inside(self,point):\n",
    "        distance = ((self.center[0]-point[0])**2 + (self.center[1]-point[1])**2)**(1/2)\n",
    "        return distance<self.radius\n",
    "    \n",
    "my_circle = circle((0,0),5)\n",
    "\n",
    "print(f\"Area {my_circle.area()}\")\n",
    "print(f\"Circumference {my_circle.circomference()}\")\n",
    "print(f\"(2,3)? {my_circle.is_inside((2,3))}\")\n",
    "print(f\"(5,5)? {my_circle.is_inside((5,5))}\")"
   ]
  },
  {
   "cell_type": "code",
   "execution_count": null,
   "metadata": {},
   "outputs": [],
   "source": []
  }
 ],
 "metadata": {
  "kernelspec": {
   "display_name": "Python 3",
   "language": "python",
   "name": "python3"
  },
  "language_info": {
   "codemirror_mode": {
    "name": "ipython",
    "version": 3
   },
   "file_extension": ".py",
   "mimetype": "text/x-python",
   "name": "python",
   "nbconvert_exporter": "python",
   "pygments_lexer": "ipython3",
   "version": "3.6.8"
  }
 },
 "nbformat": 4,
 "nbformat_minor": 2
}
