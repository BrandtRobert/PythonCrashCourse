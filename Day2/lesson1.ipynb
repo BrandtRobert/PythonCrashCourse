{
 "cells": [
  {
   "cell_type": "markdown",
   "metadata": {},
   "source": [
    "## Part 1 - If statements\n",
    "\n",
    "Now you know how the basics of python how to print, add, multiply, divide, store variables, etc.\n",
    "But in order to produce more advanced programs there are a few more fundamental concepts you need to learn.\n",
    "\n",
    "One of these fundamental concepts is the idea of conditional statements. For example lets say you are programming a thermometer and you want it to turn on the heat if it's too cold inside. Let's see what that would look like."
   ]
  },
  {
   "cell_type": "code",
   "execution_count": 8,
   "metadata": {},
   "outputs": [
    {
     "name": "stdout",
     "output_type": "stream",
     "text": [
      "The first temperature: 55\n",
      "The second temperature: 65\n"
     ]
    }
   ],
   "source": [
    "temperature = 55\n",
    "print ('The first temperature: ' + str(temperature))\n",
    "if temperature < 60:\n",
    "    # Turn on the heat and increase the temperature 10 degrees\n",
    "    temperature = temperature + 10\n",
    "    print ('The second temperature: ' + str(temperature))"
   ]
  },
  {
   "cell_type": "markdown",
   "metadata": {},
   "source": [
    "Let's see what it looks like if the temperature is greater than 60"
   ]
  },
  {
   "cell_type": "code",
   "execution_count": 9,
   "metadata": {},
   "outputs": [
    {
     "name": "stdout",
     "output_type": "stream",
     "text": [
      "The first temperature: 65\n"
     ]
    }
   ],
   "source": [
    "temperature = 65\n",
    "print ('The first temperature: ' + str(temperature))\n",
    "if temperature < 60:\n",
    "    # Turn on the heat and increase the temperature 10 degrees\n",
    "    temperature = temperature + 10\n",
    "    print('The second temperature: ' + str(temperature))"
   ]
  },
  {
   "cell_type": "markdown",
   "metadata": {},
   "source": [
    "See how the 'The second temperature' didn't get printed out. This is because the if statement became false and so the code didn't execute.\n",
    "\n",
    "If statements take the form of:\n",
    "\n",
    "```\n",
    "if (some condition is true):\n",
    "    # then execute this code\n",
    "```\n",
    "\n",
    "There is also another form if statement called if/else. It goes as follows\n",
    "\n",
    "```\n",
    "if (the condition is true):\n",
    "    # then do this\n",
    "else:\n",
    "    # otherwise do this instead\n",
    "```\n",
    "\n",
    "Let's see this statement in action"
   ]
  },
  {
   "cell_type": "code",
   "execution_count": 10,
   "metadata": {},
   "outputs": [
    {
     "name": "stdout",
     "output_type": "stream",
     "text": [
      "It's too hot!\n"
     ]
    }
   ],
   "source": [
    "temperature = 100\n",
    "\n",
    "if temperature > 80:\n",
    "    print (\"It's too hot!\") # this should print out since the temperature is greater than 80\n",
    "else:\n",
    "    print (\"It's not too bad\")"
   ]
  },
  {
   "cell_type": "markdown",
   "metadata": {},
   "source": [
    "Let's try the other way now"
   ]
  },
  {
   "cell_type": "code",
   "execution_count": 11,
   "metadata": {},
   "outputs": [
    {
     "name": "stdout",
     "output_type": "stream",
     "text": [
      "It's not too bad\n"
     ]
    }
   ],
   "source": [
    "temperature = 70\n",
    "\n",
    "if temperature > 80:\n",
    "    print (\"It's too hot!\") # this should print out since the temperature is greater than 80\n",
    "else:\n",
    "    print (\"It's not too bad\")"
   ]
  },
  {
   "cell_type": "markdown",
   "metadata": {},
   "source": [
    "So it turns these if/else statements aren't too bad after all. Let's introduce one more concept that builds off of our if/else statement. Let's say that we want our thermostat to turn on the ac if it's too hot, turn on the heat if it's too cold and if it's just right then don't do anything at all. In order to do this we need something called an else/if or elif for short. The form of these statements goes as follows:\n",
    "\n",
    "```\n",
    "if (some condition):\n",
    "    # then do this\n",
    "elif (some other condition):\n",
    "    # then do this\n",
    "else:\n",
    "    # if the first two aren't true then do this\n",
    "```\n",
    "\n",
    "If/else statements can also chain together as many conditions as you want:\n",
    "\n",
    "\n",
    "```\n",
    "if (some condition):\n",
    "    # then do this\n",
    "elif (some other condition):\n",
    "    # then do this\n",
    "elif (some other condition):\n",
    "    # do this other option\n",
    "...\n",
    "else:\n",
    "    # if the first two aren't true then do this\n",
    "```\n",
    "\n",
    "Let's see an example"
   ]
  },
  {
   "cell_type": "code",
   "execution_count": 14,
   "metadata": {},
   "outputs": [
    {
     "name": "stdout",
     "output_type": "stream",
     "text": [
      "Turn on the AC, it's too hot!\n"
     ]
    }
   ],
   "source": [
    "temperature = 90\n",
    "\n",
    "if temperature > 80:\n",
    "    print(\"Turn on the AC, it's too hot!\")\n",
    "elif temperature < 60:\n",
    "    print(\"Turn on the heat, it's too cold!\")\n",
    "else:\n",
    "    print(\"The temperature is just fine as it is!\")"
   ]
  },
  {
   "cell_type": "markdown",
   "metadata": {},
   "source": [
    "Let's try a temperature that's too cold now"
   ]
  },
  {
   "cell_type": "code",
   "execution_count": 15,
   "metadata": {},
   "outputs": [
    {
     "name": "stdout",
     "output_type": "stream",
     "text": [
      "Turn on the heat, it's too cold!\n"
     ]
    }
   ],
   "source": [
    "temperature = 50\n",
    "\n",
    "if temperature > 80:\n",
    "    print(\"Turn on the AC, it's too hot!\")\n",
    "elif temperature < 60:\n",
    "    print(\"Turn on the heat, it's too cold!\")\n",
    "else:\n",
    "    print(\"The temperature is just fine as it is!\")"
   ]
  },
  {
   "cell_type": "markdown",
   "metadata": {},
   "source": [
    "And a temperature that's just right."
   ]
  },
  {
   "cell_type": "code",
   "execution_count": 16,
   "metadata": {},
   "outputs": [
    {
     "name": "stdout",
     "output_type": "stream",
     "text": [
      "The temperature is just fine as it is!\n"
     ]
    }
   ],
   "source": [
    "temperature = 70\n",
    "\n",
    "if temperature > 80:\n",
    "    print(\"Turn on the AC, it's too hot!\")\n",
    "elif temperature < 60:\n",
    "    print(\"Turn on the heat, it's too cold!\")\n",
    "else:\n",
    "    print(\"The temperature is just fine as it is!\")"
   ]
  },
  {
   "cell_type": "markdown",
   "metadata": {},
   "source": [
    "### Conditionals\n",
    "\n",
    "So now that we know how an if statement works, let's go over the different conditions that can go into it. Remember:\n",
    "\n",
    "```\n",
    "if (here's the condition we want true):\n",
    "    # then do this\n",
    "```\n",
    "There are several ways of specifying what we want. If the condition is true then our if executes."
   ]
  },
  {
   "cell_type": "code",
   "execution_count": null,
   "metadata": {
    "collapsed": true
   },
   "outputs": [],
   "source": []
  }
 ],
 "metadata": {
  "kernelspec": {
   "display_name": "Python 3",
   "language": "python",
   "name": "python3"
  },
  "language_info": {
   "codemirror_mode": {
    "name": "ipython",
    "version": 3
   },
   "file_extension": ".py",
   "mimetype": "text/x-python",
   "name": "python",
   "nbconvert_exporter": "python",
   "pygments_lexer": "ipython3",
   "version": "3.6.8"
  }
 },
 "nbformat": 4,
 "nbformat_minor": 2
}
