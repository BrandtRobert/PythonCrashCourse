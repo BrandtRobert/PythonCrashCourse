{
 "cells": [
  {
   "cell_type": "markdown",
   "metadata": {},
   "source": [
    "## Part 1 - If statements\n",
    "\n",
    "Now you know how the basics of python how to print, add, multiply, divide, store variables, etc.\n",
    "But in order to produce more advanced programs there are a few more fundamental concepts you need to learn.\n",
    "\n",
    "One of these fundamental concepts is the idea of conditional statements. For example lets say you are programming a thermometer and you want it to turn on the heat if it's too cold inside. Let's see what that would look like."
   ]
  },
  {
   "cell_type": "code",
   "execution_count": 8,
   "metadata": {},
   "outputs": [
    {
     "name": "stdout",
     "output_type": "stream",
     "text": [
      "The first temperature: 55\n",
      "The second temperature: 65\n"
     ]
    }
   ],
   "source": [
    "temperature = 55\n",
    "print ('The first temperature: ' + str(temperature))\n",
    "if temperature < 60:\n",
    "    # Turn on the heat and increase the temperature 10 degrees\n",
    "    temperature = temperature + 10\n",
    "    print ('The second temperature: ' + str(temperature))"
   ]
  },
  {
   "cell_type": "markdown",
   "metadata": {},
   "source": [
    "Let's see what it looks like if the temperature is greater than 60"
   ]
  },
  {
   "cell_type": "code",
   "execution_count": 9,
   "metadata": {},
   "outputs": [
    {
     "name": "stdout",
     "output_type": "stream",
     "text": [
      "The first temperature: 65\n"
     ]
    }
   ],
   "source": [
    "temperature = 65\n",
    "print ('The first temperature: ' + str(temperature))\n",
    "if temperature < 60:\n",
    "    # Turn on the heat and increase the temperature 10 degrees\n",
    "    temperature = temperature + 10\n",
    "    print('The second temperature: ' + str(temperature))"
   ]
  },
  {
   "cell_type": "markdown",
   "metadata": {},
   "source": [
    "See how the 'The second temperature' didn't get printed out. This is because the if statement became false and so the code didn't execute.\n",
    "\n",
    "If statements take the form of:\n",
    "\n",
    "```\n",
    "if (some condition is true):\n",
    "    # then execute this code\n",
    "```\n",
    "\n",
    "There is also another form if statement called if/else. It goes as follows\n",
    "\n",
    "```\n",
    "if (the condition is true):\n",
    "    # then do this\n",
    "else:\n",
    "    # otherwise do this instead\n",
    "```\n",
    "\n",
    "Let's see this statement in action"
   ]
  },
  {
   "cell_type": "code",
   "execution_count": 10,
   "metadata": {},
   "outputs": [
    {
     "name": "stdout",
     "output_type": "stream",
     "text": [
      "It's too hot!\n"
     ]
    }
   ],
   "source": [
    "temperature = 100\n",
    "\n",
    "if temperature > 80:\n",
    "    print (\"It's too hot!\") # this should print out since the temperature is greater than 80\n",
    "else:\n",
    "    print (\"It's not too bad\")"
   ]
  },
  {
   "cell_type": "markdown",
   "metadata": {},
   "source": [
    "Let's try the other way now"
   ]
  },
  {
   "cell_type": "code",
   "execution_count": 11,
   "metadata": {},
   "outputs": [
    {
     "name": "stdout",
     "output_type": "stream",
     "text": [
      "It's not too bad\n"
     ]
    }
   ],
   "source": [
    "temperature = 70\n",
    "\n",
    "if temperature > 80:\n",
    "    print (\"It's too hot!\") # this should print out since the temperature is greater than 80\n",
    "else:\n",
    "    print (\"It's not too bad\")"
   ]
  },
  {
   "cell_type": "markdown",
   "metadata": {},
   "source": [
    "So it turns these if/else statements aren't too bad after all. Let's introduce one more concept that builds off of our if/else statement. Let's say that we want our thermostat to turn on the ac if it's too hot, turn on the heat if it's too cold and if it's just right then don't do anything at all. In order to do this we need something called an else/if or elif for short. The form of these statements goes as follows:\n",
    "\n",
    "```\n",
    "if (some condition):\n",
    "    # then do this\n",
    "elif (some other condition):\n",
    "    # then do this\n",
    "else:\n",
    "    # if the first two aren't true then do this\n",
    "```\n",
    "\n",
    "If/else statements can also chain together as many conditions as you want:\n",
    "\n",
    "\n",
    "```\n",
    "if (some condition):\n",
    "    # then do this\n",
    "elif (some other condition):\n",
    "    # then do this\n",
    "elif (some other condition):\n",
    "    # do this other option\n",
    "...\n",
    "else:\n",
    "    # if the first two aren't true then do this\n",
    "```\n",
    "\n",
    "Let's see an example"
   ]
  },
  {
   "cell_type": "code",
   "execution_count": 14,
   "metadata": {},
   "outputs": [
    {
     "name": "stdout",
     "output_type": "stream",
     "text": [
      "Turn on the AC, it's too hot!\n"
     ]
    }
   ],
   "source": [
    "temperature = 90\n",
    "\n",
    "if temperature > 80:\n",
    "    print(\"Turn on the AC, it's too hot!\")\n",
    "elif temperature < 60:\n",
    "    print(\"Turn on the heat, it's too cold!\")\n",
    "else:\n",
    "    print(\"The temperature is just fine as it is!\")"
   ]
  },
  {
   "cell_type": "markdown",
   "metadata": {},
   "source": [
    "Let's try a temperature that's too cold now"
   ]
  },
  {
   "cell_type": "code",
   "execution_count": 15,
   "metadata": {},
   "outputs": [
    {
     "name": "stdout",
     "output_type": "stream",
     "text": [
      "Turn on the heat, it's too cold!\n"
     ]
    }
   ],
   "source": [
    "temperature = 50\n",
    "\n",
    "if temperature > 80:\n",
    "    print(\"Turn on the AC, it's too hot!\")\n",
    "elif temperature < 60:\n",
    "    print(\"Turn on the heat, it's too cold!\")\n",
    "else:\n",
    "    print(\"The temperature is just fine as it is!\")"
   ]
  },
  {
   "cell_type": "markdown",
   "metadata": {},
   "source": [
    "And a temperature that's just right."
   ]
  },
  {
   "cell_type": "code",
   "execution_count": 16,
   "metadata": {},
   "outputs": [
    {
     "name": "stdout",
     "output_type": "stream",
     "text": [
      "The temperature is just fine as it is!\n"
     ]
    }
   ],
   "source": [
    "temperature = 70\n",
    "\n",
    "if temperature > 80:\n",
    "    print(\"Turn on the AC, it's too hot!\")\n",
    "elif temperature < 60:\n",
    "    print(\"Turn on the heat, it's too cold!\")\n",
    "else:\n",
    "    print(\"The temperature is just fine as it is!\")"
   ]
  },
  {
   "cell_type": "markdown",
   "metadata": {},
   "source": [
    "### Conditionals\n",
    "\n",
    "So now that we know how an if statement works, let's go over the different conditions that can go into it. Remember:\n",
    "\n",
    "```\n",
    "if (here's the condition we want true):\n",
    "    # then do this\n",
    "```\n",
    "There are several ways of specifying what we want. If the condition is true then our \"if\" statement executes."
   ]
  },
  {
   "cell_type": "markdown",
   "metadata": {},
   "source": [
    "#### Equality\n",
    "\n",
    "Let's start by checking equality. In python there are two ways to check if one thing is the same as other. The first way is to use the 'is' keyword. \n",
    "\n",
    "\n",
    "For example:"
   ]
  },
  {
   "cell_type": "code",
   "execution_count": 6,
   "metadata": {},
   "outputs": [
    {
     "data": {
      "text/plain": [
       "True"
      ]
     },
     "execution_count": 6,
     "metadata": {},
     "output_type": "execute_result"
    }
   ],
   "source": [
    "1 is 1"
   ]
  },
  {
   "cell_type": "code",
   "execution_count": 7,
   "metadata": {},
   "outputs": [
    {
     "data": {
      "text/plain": [
       "False"
      ]
     },
     "execution_count": 7,
     "metadata": {},
     "output_type": "execute_result"
    }
   ],
   "source": [
    "2 is 1"
   ]
  },
  {
   "cell_type": "code",
   "execution_count": 9,
   "metadata": {
    "scrolled": true
   },
   "outputs": [
    {
     "data": {
      "text/plain": [
       "True"
      ]
     },
     "execution_count": 9,
     "metadata": {},
     "output_type": "execute_result"
    }
   ],
   "source": [
    "'hi' is 'hi'"
   ]
  },
  {
   "cell_type": "code",
   "execution_count": 11,
   "metadata": {},
   "outputs": [
    {
     "data": {
      "text/plain": [
       "False"
      ]
     },
     "execution_count": 11,
     "metadata": {},
     "output_type": "execute_result"
    }
   ],
   "source": [
    "'hi' is 'bye'"
   ]
  },
  {
   "cell_type": "code",
   "execution_count": 12,
   "metadata": {},
   "outputs": [
    {
     "data": {
      "text/plain": [
       "True"
      ]
     },
     "execution_count": 12,
     "metadata": {},
     "output_type": "execute_result"
    }
   ],
   "source": [
    "3.14 is 3.14"
   ]
  },
  {
   "cell_type": "code",
   "execution_count": 20,
   "metadata": {},
   "outputs": [
    {
     "data": {
      "text/plain": [
       "False"
      ]
     },
     "execution_count": 20,
     "metadata": {},
     "output_type": "execute_result"
    }
   ],
   "source": [
    "3.14 is 3.13"
   ]
  },
  {
   "cell_type": "markdown",
   "metadata": {},
   "source": [
    "Another way of checking equality is using the '==' operator. Remember how the '=' operator doesn't mean 'is this equal?'. Well an interesting convention in most programming language is that two equals signs check whether something is equal."
   ]
  },
  {
   "cell_type": "code",
   "execution_count": 8,
   "metadata": {},
   "outputs": [
    {
     "data": {
      "text/plain": [
       "(True, False)"
      ]
     },
     "execution_count": 8,
     "metadata": {},
     "output_type": "execute_result"
    }
   ],
   "source": [
    "1 == 1, 2 == 1"
   ]
  },
  {
   "cell_type": "code",
   "execution_count": 21,
   "metadata": {},
   "outputs": [
    {
     "data": {
      "text/plain": [
       "(True, False)"
      ]
     },
     "execution_count": 21,
     "metadata": {},
     "output_type": "execute_result"
    }
   ],
   "source": [
    "'hi' == 'hi', 'hi' == 'bye'"
   ]
  },
  {
   "cell_type": "code",
   "execution_count": 23,
   "metadata": {},
   "outputs": [
    {
     "data": {
      "text/plain": [
       "True"
      ]
     },
     "execution_count": 23,
     "metadata": {},
     "output_type": "execute_result"
    }
   ],
   "source": [
    "3.14 == 3.14"
   ]
  },
  {
   "cell_type": "markdown",
   "metadata": {},
   "source": [
    "#### Greater than and less than\n",
    "\n",
    "As we've seen in earlier examples, we can also check whether something is greater than or less than something else."
   ]
  },
  {
   "cell_type": "code",
   "execution_count": 24,
   "metadata": {},
   "outputs": [
    {
     "data": {
      "text/plain": [
       "(True, False)"
      ]
     },
     "execution_count": 24,
     "metadata": {},
     "output_type": "execute_result"
    }
   ],
   "source": [
    "4 > 3, 3 > 4"
   ]
  },
  {
   "cell_type": "code",
   "execution_count": 25,
   "metadata": {},
   "outputs": [
    {
     "data": {
      "text/plain": [
       "(False, True)"
      ]
     },
     "execution_count": 25,
     "metadata": {},
     "output_type": "execute_result"
    }
   ],
   "source": [
    "4 < 3, 3 < 4"
   ]
  },
  {
   "cell_type": "code",
   "execution_count": 26,
   "metadata": {},
   "outputs": [
    {
     "data": {
      "text/plain": [
       "(True, False)"
      ]
     },
     "execution_count": 26,
     "metadata": {},
     "output_type": "execute_result"
    }
   ],
   "source": [
    "3.14 < 3.15, 3.15 < 3.14"
   ]
  },
  {
   "cell_type": "markdown",
   "metadata": {},
   "source": [
    "When used with strings the greater than and less than symbols represent alphabetical order."
   ]
  },
  {
   "cell_type": "code",
   "execution_count": 28,
   "metadata": {},
   "outputs": [
    {
     "data": {
      "text/plain": [
       "(False, True)"
      ]
     },
     "execution_count": 28,
     "metadata": {},
     "output_type": "execute_result"
    }
   ],
   "source": [
    "'a' > 'b', 'a' < 'b'"
   ]
  },
  {
   "cell_type": "code",
   "execution_count": 30,
   "metadata": {},
   "outputs": [
    {
     "data": {
      "text/plain": [
       "True"
      ]
     },
     "execution_count": 30,
     "metadata": {},
     "output_type": "execute_result"
    }
   ],
   "source": [
    "'apple' < 'banana'"
   ]
  },
  {
   "cell_type": "markdown",
   "metadata": {},
   "source": [
    "#### Greater than / less than and equal to\n",
    "\n",
    "Since we can't type the ≤ or ≥ signs in our code we have to use something different.\n",
    "\n",
    "$$ ≤ becomes <= $$\n",
    "\n",
    "$$ ≥ becomes >= $$\n",
    "\n",
    "This will become an important distinction later on."
   ]
  },
  {
   "cell_type": "code",
   "execution_count": 33,
   "metadata": {
    "scrolled": true
   },
   "outputs": [
    {
     "data": {
      "text/plain": [
       "(True, True)"
      ]
     },
     "execution_count": 33,
     "metadata": {},
     "output_type": "execute_result"
    }
   ],
   "source": [
    "1 >= 1, 1 <= 1"
   ]
  },
  {
   "cell_type": "markdown",
   "metadata": {},
   "source": [
    "## Part 2 - Data Structures\n",
    "\n",
    "Previously in the course we talked about Python data types. Remember int, float, str, and bool? Well there is an extremely important concept in programming called data structures. Data structures are a fundamental part of being able to make more advanced programs like the game we will be making in this course. Data structures are ways of organizing or storing data, and utilizing the right data structures can allow you to make programs very simple and efficient. While using the wrong structures can lead to a very difficult experience developing a program.\n",
    "\n",
    "\n",
    "### Lists\n",
    "\n",
    "The first data structure and one of the most common known structures is a list. Let's make a list as an example."
   ]
  },
  {
   "cell_type": "code",
   "execution_count": 25,
   "metadata": {},
   "outputs": [
    {
     "data": {
      "text/plain": [
       "['salad', 'chips', 'hamburgers']"
      ]
     },
     "execution_count": 25,
     "metadata": {},
     "output_type": "execute_result"
    }
   ],
   "source": [
    "grocery_list = ['salad', 'chips', 'hamburgers']\n",
    "grocery_list"
   ]
  },
  {
   "cell_type": "markdown",
   "metadata": {},
   "source": [
    "Lists are really just a group of things in some order, and we can access them as such. In order to access things from a list we use the name of the list followed by square brackets and the index of the item in the middle. For example:"
   ]
  },
  {
   "cell_type": "code",
   "execution_count": 26,
   "metadata": {},
   "outputs": [
    {
     "data": {
      "text/plain": [
       "'chips'"
      ]
     },
     "execution_count": 26,
     "metadata": {},
     "output_type": "execute_result"
    }
   ],
   "source": [
    "grocery_list[1]"
   ]
  },
  {
   "cell_type": "markdown",
   "metadata": {},
   "source": [
    "Notice how the item at index 1 is actually 'chips' and not 'salad'. Well this is because computer scientists start counting at 0, not 1. It's kind of a weird quirk, but it'll make more sense later on. So if we check at index 0, we should see the first item."
   ]
  },
  {
   "cell_type": "code",
   "execution_count": 27,
   "metadata": {},
   "outputs": [
    {
     "data": {
      "text/plain": [
       "'salad'"
      ]
     },
     "execution_count": 27,
     "metadata": {},
     "output_type": "execute_result"
    }
   ],
   "source": [
    "grocery_list[0]"
   ]
  },
  {
   "cell_type": "markdown",
   "metadata": {},
   "source": [
    "Lists can be added together, let's make another list to demonstrate this."
   ]
  },
  {
   "cell_type": "code",
   "execution_count": 31,
   "metadata": {},
   "outputs": [
    {
     "data": {
      "text/plain": [
       "['chips', 'hamburgers', 'salad', 'bananas', 'cream cheese']"
      ]
     },
     "execution_count": 31,
     "metadata": {},
     "output_type": "execute_result"
    }
   ],
   "source": [
    "other_list = ['bananas', 'cream cheese']\n",
    "new_list = grocery_list + other_list\n",
    "new_list"
   ]
  },
  {
   "cell_type": "markdown",
   "metadata": {},
   "source": [
    "Lists can also be sorted. In this case, they will be sorted in alphabetical order. Let's try this."
   ]
  },
  {
   "cell_type": "code",
   "execution_count": 30,
   "metadata": {},
   "outputs": [
    {
     "data": {
      "text/plain": [
       "['chips', 'hamburgers', 'salad']"
      ]
     },
     "execution_count": 30,
     "metadata": {},
     "output_type": "execute_result"
    }
   ],
   "source": [
    "grocery_list.sort()\n",
    "grocery_list"
   ]
  },
  {
   "cell_type": "markdown",
   "metadata": {},
   "source": [
    "For now just recognize that we use .sort() after the name of the list. It will become clear later why we do this. It mostly has to do with the fact that lists are considered objects which operate slightly differently than the primitive data types that we've seen before.\n",
    "\n",
    "\n",
    "Finally, there are a few tricks you can do with lists and indexes that are nice to know. This one is called splicing, this allows us to select subsets of a list."
   ]
  },
  {
   "cell_type": "code",
   "execution_count": 32,
   "metadata": {},
   "outputs": [
    {
     "data": {
      "text/plain": [
       "['hamburgers', 'salad', 'bananas', 'cream cheese']"
      ]
     },
     "execution_count": 32,
     "metadata": {},
     "output_type": "execute_result"
    }
   ],
   "source": [
    "new_list[1:]"
   ]
  },
  {
   "cell_type": "markdown",
   "metadata": {},
   "source": [
    "The above line selects from item 1 to the end."
   ]
  },
  {
   "cell_type": "code",
   "execution_count": 33,
   "metadata": {},
   "outputs": [
    {
     "data": {
      "text/plain": [
       "['hamburgers', 'salad', 'bananas']"
      ]
     },
     "execution_count": 33,
     "metadata": {},
     "output_type": "execute_result"
    }
   ],
   "source": [
    "new_list[1:4]"
   ]
  },
  {
   "cell_type": "markdown",
   "metadata": {},
   "source": [
    "This line selects from the 1st item up until the 4th item. Notice how it doesn't select the 4th item but everything up until it. Finally, if we wanna select the last item we can use a negative number. Like this:"
   ]
  },
  {
   "cell_type": "code",
   "execution_count": 35,
   "metadata": {},
   "outputs": [
    {
     "data": {
      "text/plain": [
       "('cream cheese', 'bananas')"
      ]
     },
     "execution_count": 35,
     "metadata": {},
     "output_type": "execute_result"
    }
   ],
   "source": [
    "new_list[-1], new_list[-2]"
   ]
  },
  {
   "cell_type": "markdown",
   "metadata": {},
   "source": [
    "-1 selects the last item in the list while -2 select the second to last item."
   ]
  },
  {
   "cell_type": "markdown",
   "metadata": {},
   "source": [
    "### Dictonaries\n",
    "\n",
    "Dictionaries are another Python data structure that work by using key value pairs. A key value pair is a way of searching for things. We know the key and we want to find some data associated with it. Maybe we have a list of names, and we want to find that person's home state. We can create a dictionary to look up the home state."
   ]
  },
  {
   "cell_type": "code",
   "execution_count": 36,
   "metadata": {},
   "outputs": [
    {
     "data": {
      "text/plain": [
       "{'Brandt': 'Washington', 'Will': 'Colorado', 'Wayne': 'Texas'}"
      ]
     },
     "execution_count": 36,
     "metadata": {},
     "output_type": "execute_result"
    }
   ],
   "source": [
    "example_dictionary = {'Brandt': 'Washington', 'Will': 'Colorado', 'Wayne' : 'Texas'}\n",
    "example_dictionary"
   ]
  },
  {
   "cell_type": "code",
   "execution_count": 37,
   "metadata": {},
   "outputs": [
    {
     "data": {
      "text/plain": [
       "'Washington'"
      ]
     },
     "execution_count": 37,
     "metadata": {},
     "output_type": "execute_result"
    }
   ],
   "source": [
    "example_dictionary['Brandt']"
   ]
  },
  {
   "cell_type": "code",
   "execution_count": 38,
   "metadata": {},
   "outputs": [
    {
     "data": {
      "text/plain": [
       "'Texas'"
      ]
     },
     "execution_count": 38,
     "metadata": {},
     "output_type": "execute_result"
    }
   ],
   "source": [
    "example_dictionary['Wayne']"
   ]
  },
  {
   "cell_type": "markdown",
   "metadata": {},
   "source": [
    "You can also add new items to the dictionary, for example"
   ]
  },
  {
   "cell_type": "code",
   "execution_count": 40,
   "metadata": {},
   "outputs": [
    {
     "data": {
      "text/plain": [
       "{'Brandt': 'Washington',\n",
       " 'Will': 'Colorado',\n",
       " 'Wayne': 'Texas',\n",
       " 'New Guy': 'Michigan'}"
      ]
     },
     "execution_count": 40,
     "metadata": {},
     "output_type": "execute_result"
    }
   ],
   "source": [
    "example_dictionary['New Guy'] = 'Michigan'\n",
    "example_dictionary"
   ]
  },
  {
   "cell_type": "markdown",
   "metadata": {},
   "source": [
    "You also don't have only use strings as indexes, you can use numbers as well. Maybe we want to record first, second and third place in a race."
   ]
  },
  {
   "cell_type": "code",
   "execution_count": 41,
   "metadata": {},
   "outputs": [
    {
     "data": {
      "text/plain": [
       "{1: 'Dasher', 2: 'Dancer', 3: 'Rudolph'}"
      ]
     },
     "execution_count": 41,
     "metadata": {},
     "output_type": "execute_result"
    }
   ],
   "source": [
    "race_standings = {1: 'Dasher', 2: 'Dancer', 3: 'Rudolph'}\n",
    "race_standings"
   ]
  },
  {
   "cell_type": "code",
   "execution_count": 42,
   "metadata": {},
   "outputs": [
    {
     "data": {
      "text/plain": [
       "'Rudolph'"
      ]
     },
     "execution_count": 42,
     "metadata": {},
     "output_type": "execute_result"
    }
   ],
   "source": [
    "race_standings[3]"
   ]
  }
 ],
 "metadata": {
  "kernelspec": {
   "display_name": "Python 3",
   "language": "python",
   "name": "python3"
  },
  "language_info": {
   "codemirror_mode": {
    "name": "ipython",
    "version": 3
   },
   "file_extension": ".py",
   "mimetype": "text/x-python",
   "name": "python",
   "nbconvert_exporter": "python",
   "pygments_lexer": "ipython3",
   "version": "3.6.1"
  }
 },
 "nbformat": 4,
 "nbformat_minor": 2
}
