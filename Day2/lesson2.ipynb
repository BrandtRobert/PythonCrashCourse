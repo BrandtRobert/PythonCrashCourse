{
 "cells": [
  {
   "cell_type": "markdown",
   "metadata": {},
   "source": [
    "## Loops\n",
    "\n",
    "Now that we've discussed conditionals and data structures. We can talk about loops. Loops are one of the most powerful operations in programming, as they let us do the same set of operations over a bunch of data, or repeat the same code.\n",
    "Let's give an example of why loops are useful.\n",
    "\n",
    "\n",
    "Let's say we have a list:"
   ]
  },
  {
   "cell_type": "code",
   "execution_count": 1,
   "metadata": {},
   "outputs": [],
   "source": [
    "fruits = ['apple', 'banana', 'orange', 'apple', 'grape', 'grape', 'apple']"
   ]
  },
  {
   "cell_type": "markdown",
   "metadata": {},
   "source": [
    "We want to count the amount of apples in this list. One way we could do this is manually by checking every index.\n",
    "Like this"
   ]
  },
  {
   "cell_type": "code",
   "execution_count": 2,
   "metadata": {},
   "outputs": [
    {
     "name": "stdout",
     "output_type": "stream",
     "text": [
      "3\n"
     ]
    }
   ],
   "source": [
    "count_of_apples = 0\n",
    "if fruits[0] is 'apple':\n",
    "    count_of_apples = count_of_apples + 1\n",
    "if fruits[1] is 'apple':\n",
    "    count_of_apples = count_of_apples + 1\n",
    "if fruits[2] is 'apple':\n",
    "    count_of_apples = count_of_apples + 1\n",
    "if fruits[3] is 'apple':\n",
    "    count_of_apples = count_of_apples + 1\n",
    "if fruits[4] is 'apple':\n",
    "    count_of_apples = count_of_apples + 1\n",
    "if fruits[5] is 'apple':\n",
    "    count_of_apples = count_of_apples + 1\n",
    "if fruits[6] is 'apple':\n",
    "    count_of_apples = count_of_apples + 1\n",
    "    \n",
    "print(count_of_apples)"
   ]
  },
  {
   "cell_type": "markdown",
   "metadata": {},
   "source": [
    "You can see how this would be incredibly tedious. Plus if we had to change it to count grapes instead it would be a massive pain. However, we can use a loop to repeat the same operation over each item in the list. Here is an example."
   ]
  },
  {
   "cell_type": "code",
   "execution_count": 3,
   "metadata": {},
   "outputs": [
    {
     "name": "stdout",
     "output_type": "stream",
     "text": [
      "3\n"
     ]
    }
   ],
   "source": [
    "count_of_apples = 0\n",
    "for fruit in fruits:\n",
    "    if fruit is 'apple':\n",
    "        count_of_apples = count_of_apples + 1\n",
    "print(count_of_apples)"
   ]
  },
  {
   "cell_type": "markdown",
   "metadata": {},
   "source": [
    "The 'for' loop is the most common type of loop in Python. It works as follows, you write 'for <item> in <group_of_items>'. I know this might seem confusing at first but you are basically saying 'for each item in my list of items, do this operation'. So in the case of the above example, we are saying for each fruit in our list of fruits if that fruit is an apple increment our count by 1. \n",
    "    \n",
    "\n",
    "Let's try another example, this time we will try to do multiplication without using the '\\*' operator. Since multiplication is jsut repeated adding we can do this with a loop."
   ]
  },
  {
   "cell_type": "code",
   "execution_count": 5,
   "metadata": {},
   "outputs": [
    {
     "name": "stdout",
     "output_type": "stream",
     "text": [
      "12 12\n"
     ]
    }
   ],
   "source": [
    "x = 3\n",
    "y = 4\n",
    "result = 0\n",
    "for i in range(y):\n",
    "    result = result + x\n",
    "print (result, x * y)"
   ]
  },
  {
   "cell_type": "markdown",
   "metadata": {},
   "source": [
    "I'm sure you'll notice a quirk, it's the range(y) in the loop. The reason I used this is to create a list from y. Since y is just the number 4 it doesn't really make sense to say for each time in 4 do this. So instead we are saying for i from the range of 0 to 4 do this operation.\n",
    "\n",
    "Here's an example of us printing out this range."
   ]
  },
  {
   "cell_type": "code",
   "execution_count": 10,
   "metadata": {},
   "outputs": [
    {
     "name": "stdout",
     "output_type": "stream",
     "text": [
      "0\n",
      "1\n",
      "2\n",
      "3\n"
     ]
    }
   ],
   "source": [
    "for i in range(4):\n",
    "    print(i)"
   ]
  },
  {
   "cell_type": "code",
   "execution_count": null,
   "metadata": {},
   "outputs": [],
   "source": []
  }
 ],
 "metadata": {
  "kernelspec": {
   "display_name": "Python 3",
   "language": "python",
   "name": "python3"
  },
  "language_info": {
   "codemirror_mode": {
    "name": "ipython",
    "version": 3
   },
   "file_extension": ".py",
   "mimetype": "text/x-python",
   "name": "python",
   "nbconvert_exporter": "python",
   "pygments_lexer": "ipython3",
   "version": "3.7.3"
  }
 },
 "nbformat": 4,
 "nbformat_minor": 2
}
